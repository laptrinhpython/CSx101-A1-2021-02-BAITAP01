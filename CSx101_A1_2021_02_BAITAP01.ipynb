{
  "nbformat": 4,
  "nbformat_minor": 0,
  "metadata": {
    "colab": {
      "name": "CSx101-A1-2021-02-BAITAP01.ipynb",
      "provenance": [],
      "authorship_tag": "ABX9TyOZFRrxipjQfiAXKpDcxryi",
      "include_colab_link": true
    },
    "kernelspec": {
      "name": "python3",
      "display_name": "Python 3"
    },
    "language_info": {
      "name": "python"
    }
  },
  "cells": [
    {
      "cell_type": "markdown",
      "metadata": {
        "id": "view-in-github",
        "colab_type": "text"
      },
      "source": [
        "<a href=\"https://colab.research.google.com/github/laptrinhpython/CSx101-A1-2021-02-BAITAP01/blob/main/CSx101_A1_2021_02_BAITAP01.ipynb\" target=\"_parent\"><img src=\"https://colab.research.google.com/assets/colab-badge.svg\" alt=\"Open In Colab\"/></a>"
      ]
    },
    {
      "cell_type": "code",
      "metadata": {
        "id": "1J9dQtxwhQca",
        "colab": {
          "base_uri": "https://localhost:8080/"
        },
        "outputId": "a840bc9b-86d1-4f04-ab93-2c1f8600a6a8"
      },
      "source": [
        "\n",
        "a, b= list(map(int,input().split()))\n",
        "# tự tính min, max theo công thức của bài\n",
        "min =((a+b)-abs(a-b))/2\n",
        "max =((a+b)+abs(a-b))/2\n",
        "print(\"max = \", int(max))\n",
        "print(\"min = \", int(min))\n",
        "\n",
        "\n"
      ],
      "execution_count": null,
      "outputs": [
        {
          "output_type": "stream",
          "name": "stdout",
          "text": [
            "2 5\n",
            "max =  5\n",
            "min =  2\n"
          ]
        }
      ]
    },
    {
      "cell_type": "markdown",
      "metadata": {
        "id": "QibOgm1z4fxT"
      },
      "source": [
        "bai2 \n",
        "Bình vừa mua xách tay một cái nhiệt kế hồng ngoại cực xịn cực chính xác chỉ mỗi tội nó hiển thị nhiệt độ theo thang đo độ F - Farenheit. Hãy giúp Bình đổi qua độ C - Celsius và độ K - Kelvin\n",
        "\n",
        "INPUT\n",
        "Một con số - nhiệt độ theo thang F\n",
        "\n",
        "OUTPUT\n",
        "Hai con số - nhiệt độ theo thang C và thang K"
      ]
    },
    {
      "cell_type": "code",
      "metadata": {
        "colab": {
          "base_uri": "https://localhost:8080/"
        },
        "id": "FdzIyzGG4kZR",
        "outputId": "01a8a6dc-fdc0-4ae0-8b05-b49d5391723d"
      },
      "source": [
        "from decimal import *\n",
        "F =float(input())\n",
        "C= (F-32)/1.8\n",
        "K= ((F-32)/1.8)+273.15\n",
        "getcontext().prec = 6\n",
        "print(Decimal(C).normalize(),Decimal(K).normalize())"
      ],
      "execution_count": null,
      "outputs": [
        {
          "output_type": "stream",
          "name": "stdout",
          "text": [
            "472.6\n",
            "244.778 517.928\n"
          ]
        }
      ]
    },
    {
      "cell_type": "markdown",
      "metadata": {
        "id": "cLNwMJ-__w21"
      },
      "source": [
        "bai3 Tìm ra áp suất chất lỏng/khí và cách đo đạt chúng là một vấn đề nghiên cứu vật lý thực nghiệm từng làm đau đầu nhiều nhà khoa học thời trung cổ. Đã có nhiều nhà khoa học khác nhau đề xuất các thang đo khác nhau. Tuy nhiên ngày nay một đơn vị đo áp suất phổ thông mà dễ hiểu là tính lực tác động (theo khối lượng) chia cho diện tích. Khổ nổi trong hệ đo lường quốc tế (SI) và hệ đo Imperial phổ biến ở Mỹ người ta đo khối lượng và áp suất bằng cách đơn vị khác nhau. Bạn Bình vừa mua một con mô-tô phân khối lớn hàng nhập nguyên chiếc từ Mỹ về, tài liệu hướng dẫn của xe ghi áp suất phù hợp khi bơm xe bằng đơn vị PSI (Pound / square inches - 1 pound lực trên một inch vuông). Còn ống bơm của Bình tích hợp đồng hồ đo áp suất bằng đơn vị kg/cm2 (1 kilogram lực trên một centimét vuông).\n",
        "\n",
        "Biết: 1 pound = 0.453592 kg\n",
        "\n",
        "và 1 inch = 2,54 cm\n",
        "\n",
        "Viết công thức giúp Bình đổi PSI sang kg/cm2"
      ]
    },
    {
      "cell_type": "code",
      "metadata": {
        "colab": {
          "base_uri": "https://localhost:8080/"
        },
        "id": "gvZDrbwUApjr",
        "outputId": "24482a8e-74ed-47f1-9a66-a1a58924590d"
      },
      "source": [
        "from decimal import *\n",
        "PSI = float(input())\n",
        "kcm= PSI*0.453592/(pow(2.54,2))\n",
        "getcontext().prec = 6\n",
        "print(Decimal(kcm).normalize())\n"
      ],
      "execution_count": null,
      "outputs": [
        {
          "output_type": "stream",
          "name": "stdout",
          "text": [
            "2018\n",
            "141.879\n"
          ]
        }
      ]
    },
    {
      "cell_type": "markdown",
      "metadata": {
        "id": "obXvonWXEzr7"
      },
      "source": [
        "bsi4"
      ]
    },
    {
      "cell_type": "code",
      "metadata": {
        "colab": {
          "base_uri": "https://localhost:8080/"
        },
        "id": "nnikLIplE0lW",
        "outputId": "40aa8fff-ad16-4570-819c-cd2a9c0a3505"
      },
      "source": [
        "\n",
        "a, b= list(map(int,input().split()))\n",
        "y= (b-2*a)/2\n",
        "x= a-y\n",
        "print(int(x),int(y))"
      ],
      "execution_count": null,
      "outputs": [
        {
          "output_type": "stream",
          "name": "stdout",
          "text": [
            "36 100\n",
            "22 14\n"
          ]
        }
      ]
    },
    {
      "cell_type": "markdown",
      "metadata": {
        "id": "N68su_yzHB6D"
      },
      "source": [
        "bai5"
      ]
    },
    {
      "cell_type": "code",
      "metadata": {
        "colab": {
          "base_uri": "https://localhost:8080/"
        },
        "id": "nwuiU5-CHDwc",
        "outputId": "86f2bc80-8738-42cb-aa57-76fbb921f5ba"
      },
      "source": [
        "a, b, c= list(map(float,input().split()))\n",
        "x= pow(a,5)-(2*pow(abs(b),0.5))+(a*b*c)\n",
        "print(format(x, '.2f'))\n"
      ],
      "execution_count": null,
      "outputs": [
        {
          "output_type": "stream",
          "name": "stdout",
          "text": [
            "-10 -20 -30\n",
            "-106008.94\n"
          ]
        }
      ]
    },
    {
      "cell_type": "markdown",
      "metadata": {
        "id": "q29JFMz2L2hb"
      },
      "source": [
        "bai6\n"
      ]
    },
    {
      "cell_type": "code",
      "metadata": {
        "colab": {
          "base_uri": "https://localhost:8080/"
        },
        "id": "8Z5HVc63L3bs",
        "outputId": "73a3c20a-078e-407c-8b9c-c79b105521c8"
      },
      "source": [
        "m,n =list(map(int,input().split()))\n",
        "a =pow(m,n,1000000007)\n",
        "print(format(a,'.0f'))"
      ],
      "execution_count": null,
      "outputs": [
        {
          "output_type": "stream",
          "name": "stdout",
          "text": [
            "990 88\n",
            "505518168\n"
          ]
        }
      ]
    },
    {
      "cell_type": "markdown",
      "metadata": {
        "id": "GoBtuvolS3TF"
      },
      "source": [
        "bai 5"
      ]
    },
    {
      "cell_type": "code",
      "metadata": {
        "id": "07gozfrOS4aE"
      },
      "source": [
        "m,n =list(map(int,input().split()))\n",
        "if n>m:\n",
        "  t=n\n",
        "  n=m\n",
        "  m=t\n",
        "t=0\n",
        "n -= 1\n",
        "m -= 2\n",
        "while (m>=1) or (n>=1):\n",
        "  t +=(n+m)\n",
        "  n -=1\n",
        "  m -=1\n",
        "print(t)\n"
      ],
      "execution_count": null,
      "outputs": []
    },
    {
      "cell_type": "code",
      "metadata": {
        "colab": {
          "base_uri": "https://localhost:8080/"
        },
        "id": "RQYvEqEIUTcN",
        "outputId": "9c4aa662-f60b-45ec-fafc-33275a5dafe9"
      },
      "source": [
        "m,n =list(map(int,input().split()))\n",
        "hang=m+1\n",
        "cot=n+1\n",
        "hangtrong=hang-2\n",
        "cottrong=cot-2\n",
        "sogiaodiem=cottrong*hangtrong\n",
        "print(sogiaodiem)"
      ],
      "execution_count": null,
      "outputs": [
        {
          "output_type": "stream",
          "name": "stdout",
          "text": [
            "3 4\n",
            "6\n"
          ]
        }
      ]
    }
  ]
}