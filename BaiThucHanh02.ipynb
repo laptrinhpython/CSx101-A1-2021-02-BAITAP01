{
  "nbformat": 4,
  "nbformat_minor": 0,
  "metadata": {
    "colab": {
      "name": "BaiThucHanh02.ipynb",
      "provenance": [],
      "authorship_tag": "ABX9TyNyuMz9YlNKzZVbUkUEK5jG",
      "include_colab_link": true
    },
    "kernelspec": {
      "name": "python3",
      "display_name": "Python 3"
    },
    "language_info": {
      "name": "python"
    }
  },
  "cells": [
    {
      "cell_type": "markdown",
      "metadata": {
        "id": "view-in-github",
        "colab_type": "text"
      },
      "source": [
        "<a href=\"https://colab.research.google.com/github/laptrinhpython/CSx101-A1-2021-02-BAITAP01/blob/main/BaiThucHanh02.ipynb\" target=\"_parent\"><img src=\"https://colab.research.google.com/assets/colab-badge.svg\" alt=\"Open In Colab\"/></a>"
      ]
    },
    {
      "cell_type": "markdown",
      "metadata": {
        "id": "flTz-ELu4MgL"
      },
      "source": [
        "ĐƯỜNG SẮT TRÊN CAO"
      ]
    },
    {
      "cell_type": "code",
      "metadata": {
        "id": "YqXEJ8r-4RWb",
        "colab": {
          "base_uri": "https://localhost:8080/"
        },
        "outputId": "744c1d4a-0201-4d64-d5f7-7aaeaf857bef"
      },
      "source": [
        "k, t= list(map(int,input().split()))\n",
        "c = t%k\n",
        "x = t//k\n",
        "if (x%2)!=0:\n",
        "  tram = k-c\n",
        "else:\n",
        "  tram = c \n",
        "print(tram)"
      ],
      "execution_count": null,
      "outputs": [
        {
          "output_type": "stream",
          "name": "stdout",
          "text": [
            "5 22\n",
            "2\n"
          ]
        }
      ]
    },
    {
      "cell_type": "markdown",
      "metadata": {
        "id": "yUWJT5PSKE7y"
      },
      "source": [
        "BÀI TAM GIÁC"
      ]
    },
    {
      "cell_type": "code",
      "metadata": {
        "colab": {
          "base_uri": "https://localhost:8080/"
        },
        "id": "XdqQtBsjKHkh",
        "outputId": "c2e90613-2d3a-49d8-f70d-7cb3401b0548"
      },
      "source": [
        "# a=input()\n",
        "# b=input()\n",
        "# c=input()\n",
        "#Nhap so do ba canh tu ban phim\n",
        "#Su dung ham map() va float de ep kieu du lieu sang so thuc\n",
        "a, b, c = map(float, input().split())\n",
        "\n",
        "#Dung cau lenh re nhanh de kiem tra dieu kien cac tam giac\n",
        "#Kiem tra dieu kien la ba canh cua tam giac\n",
        "if a+b>c and a+c>b and b+c>a:\n",
        "   #Kiem tra tam giac vuong\n",
        "   if a*a==b*b+c*c or b*b==a*a+c*c or c*c==a*a+b*b:\n",
        "       loaiTamGiac = 'vuong'\n",
        "   #Kiem tra tam giac deu\n",
        "   elif a==b and b==c:\n",
        "       loaiTamGiac = 'deu'\n",
        "   #Kiem tra tam giac can\n",
        "   elif a==b or a==c or b==c:\n",
        "       loaiTamGiac = 'can'\n",
        "   #Kiem tra tam giac tu\n",
        "   elif a*a > b*b+c*c or b*b > a*a+c*c or c*c > a*a+b*b:   \n",
        "       loaiTamGiac = 'tu'\n",
        "   #Cac truong hop con lai la tam giac nhon\n",
        "   else:\n",
        "       loaiTamGiac = 'nhon'\n",
        "   #Xuat thong bao theo yeu cau\n",
        "   print('{}, {}, {} la ba canh cua mot tam giac {}'.format(a, b, c, loaiTamGiac))\n",
        "else:\n",
        "   print(\"{}, {}, {} khong phai la ba canh cua mot tam giac\".format(a, b, c))\n"
      ],
      "execution_count": null,
      "outputs": [
        {
          "output_type": "stream",
          "name": "stdout",
          "text": [
            "2 3 4\n",
            "2.0, 3.0, 4.0 la ba canh cua mot tam giac tu\n"
          ]
        }
      ]
    },
    {
      "cell_type": "code",
      "metadata": {
        "colab": {
          "base_uri": "https://localhost:8080/"
        },
        "id": "RgCeYGb1ONCr",
        "outputId": "a4018a14-1266-457f-bc59-d3af0399d88a"
      },
      "source": [
        "import math\n",
        "from decimal import *\n",
        "a=Decimal(input())\n",
        "b=Decimal(input())\n",
        "c=Decimal(input())\n",
        "getcontext().prec = 3\n",
        "if a+b>c and a+c>b and b+c>a:\n",
        "    loai = 'Tam giac thuong,'\n",
        "    cv = a+b+c\n",
        "    p =cv/2\n",
        "    dt = math.sqrt(p*(p-a)*(p-b)*(p-c))\n",
        "    if a*a==b*b+c*c or b*b==a*a+c*c or c*c==a*a+b*b:\n",
        "       loai = 'Tam giac vuong,'\n",
        "       dt = math.sqrt(p*(p-a)*(p-b)*(p-c))\n",
        "    print(loai,'dien tich =',Decimal(dt).normalize())\n",
        "else:\n",
        "    print('Khong phai tam giac')"
      ],
      "execution_count": null,
      "outputs": [
        {
          "output_type": "stream",
          "name": "stdout",
          "text": [
            "2\n",
            "3\n",
            "4\n",
            "Tam giac thuong, dien tich = 2.9\n"
          ]
        }
      ]
    },
    {
      "cell_type": "markdown",
      "metadata": {
        "id": "FySvT2JhKvq5"
      },
      "source": [
        "Chia dưa"
      ]
    },
    {
      "cell_type": "code",
      "metadata": {
        "colab": {
          "base_uri": "https://localhost:8080/"
        },
        "id": "EMR1B_y1Kw_V",
        "outputId": "e47b7b0f-780d-486b-ec4b-1b5a8262a52b"
      },
      "source": [
        "a = float(input())\n",
        "if (a%2==0 and a!=0):\n",
        "  print(\"YES\")\n",
        "else:\n",
        "  print(\"NO\")"
      ],
      "execution_count": null,
      "outputs": [
        {
          "output_type": "stream",
          "name": "stdout",
          "text": [
            "-1\n",
            "NO\n"
          ]
        }
      ]
    },
    {
      "cell_type": "markdown",
      "metadata": {
        "id": "SU5_GBGcN30W"
      },
      "source": [
        "Rút gọn phân số"
      ]
    },
    {
      "cell_type": "code",
      "metadata": {
        "colab": {
          "base_uri": "https://localhost:8080/"
        },
        "id": "05bxsdeNN6fd",
        "outputId": "e6204a62-dafc-40d6-c1df-54f9aeb8ec20"
      },
      "source": [
        "\n",
        "num = int(input())\n",
        "a =num%1000\n",
        "b =a%100\n",
        "c =b%10\n",
        "if c== 1:\n",
        "  can = 'TAN'\n",
        "elif c==2:\n",
        "  can ='NHAM'\n",
        "elif c==3:\n",
        "  can ='QUY'\n",
        "elif c==4:\n",
        "  can ='GIAP'\n",
        "elif c==5:\n",
        "  can ='AT'\n",
        "elif c==6:\n",
        "  can ='BINH'  \n",
        "elif c==7:\n",
        "  can ='DINH'\n",
        "elif c==8:\n",
        "  can ='MAU'\n",
        "elif c==9:\n",
        "  can ='KY'\n",
        "elif c==0:\n",
        "  can ='CANH'\n",
        "d =b%12\n",
        "if d ==0:\n",
        "  chi = 'TY\"'\n",
        "elif d==1:\n",
        "  chi = 'SUU'\n",
        "elif d==2:\n",
        "  chi = 'DAN'\n",
        "elif d==3:\n",
        "  chi = 'MEO'\n",
        "elif d==4:\n",
        "  chi = 'THIN'\n",
        "elif d==5:\n",
        "  chi = 'TY.'\n",
        "elif d==6:\n",
        "  chi = 'NGO'\n",
        "elif d==7:\n",
        "  chi = 'MUI'\n",
        "elif d==8:\n",
        "  chi = 'Than'\n",
        "elif d==9:\n",
        "  chi = 'DAU'\n",
        "elif d==10:\n",
        "  chi = 'TUAT'\n",
        "elif d==11:\n",
        "  chi = 'HOI'\n",
        "print(b,d)\n",
        "print(can,chi)\n",
        "\n"
      ],
      "execution_count": null,
      "outputs": [
        {
          "output_type": "stream",
          "name": "stdout",
          "text": [
            "-208\n",
            "92 8\n",
            "NHAM Than\n"
          ]
        }
      ]
    },
    {
      "cell_type": "code",
      "metadata": {
        "colab": {
          "base_uri": "https://localhost:8080/"
        },
        "id": "2Ae9_32-tq8r",
        "outputId": "175a6fc4-9863-472a-9ed6-e679c025232a"
      },
      "source": [
        "can = ['Canh', 'Tân', 'Nhâm', 'Quý', 'Giáp', 'Ất', 'Bính', 'Đinh','Mậu','Kỷ']\n",
        "chi = ['Thân', 'Dậu', 'Tuất', 'Hợi','Tí','Sửu','Dần', 'Mão', 'Thìn', 'Tị', 'Ngọ', \"Mùi\"]\n",
        "cantcn = ['Tân','Canh', 'Kỷ', 'Mậu', 'Đinh', 'Bính', 'Ất', 'Giáp', 'Quý','Nhâm']\n",
        "chitcn =  [\"Dậu\",'Thân', 'Mùi', 'Ngọ', 'Tỵ','Thìn','Mẹo','Dần', 'Sửu', 'Tý', 'Hợi', 'Tuất', ]\n",
        "nam = int(input(\"Nhap vao nam: \"))\n",
        "vitri_can = abs(nam) % 10\n",
        "vitri_chi = abs(nam) % 12\n",
        "if nam>0:\n",
        "  print(can[vitri_can] + \" \" + chi[vitri_chi])\n",
        "else:\n",
        "  print(cantcn[vitri_can] + \" \" + chitcn[vitri_chi])"
      ],
      "execution_count": null,
      "outputs": [
        {
          "output_type": "stream",
          "name": "stdout",
          "text": [
            "Nhap vao nam: -2\n",
            "Kỷ Mùi\n"
          ]
        }
      ]
    },
    {
      "cell_type": "code",
      "metadata": {
        "id": "pIZ3iH2M78kP"
      },
      "source": [
        "can = [\"CANH\", \"TAN\", \"NHAM\", \"QUY\", \"GIAP\", \"AT\", \"BINH\", \"DINH\", \"MAU\", \"KY\"]\n",
        "chi = [\"THAN\", \"DAU\", \"TUAT\", \"HOI\",\"TY'\",\"SUU\",\"DAN\", \"MAO\", \"THIN\", \"TY.\", \"NGO\", \"MUI\"]\n",
        "cantcn = [\"TAN\",\"CANH\", \"KY\", \"MAU\", \"DINH\", \"BINH\", \"AT\", \"GIAP\", \"QUY\", \"NHAM\"]\n",
        "chitcn =  [\"DAU\",\"THAN\", \"MUI\", \"NGO\", \"TY.\",\"THIN\",\"MEO\",\"DAN\", \"SUU\", \"TY'\", \"HOI\", \"TUAT\"]\n",
        "nam = int(input())\n",
        "vitri_can = abs(nam) % 10\n",
        "vitri_chi = abs(nam) % 12\n",
        "if nam>0:\n",
        "  print(can[vitri_can] + \" \" + chi[vitri_chi])\n",
        "elif nam<0:\n",
        "  print(cantcn[vitri_can] + \" \" + chitcn[vitri_chi])"
      ],
      "execution_count": null,
      "outputs": []
    },
    {
      "cell_type": "markdown",
      "metadata": {
        "id": "vy_j6Oa5GiO4"
      },
      "source": [
        "\n",
        "Logic cuộc đời\n"
      ]
    },
    {
      "cell_type": "code",
      "metadata": {
        "colab": {
          "base_uri": "https://localhost:8080/"
        },
        "id": "x0SeK8eZGjQX",
        "outputId": "4fd916db-d0ac-451b-fea8-ece24b171e3d"
      },
      "source": [
        "a, b, c, d = map(int, input().split())\n",
        "if ((a==0 and b==0 and c==0 and d==0) or (a==0 and b ==0 and c==1 and d==1 ) or (a ==1 and b==1 and c ==1 and d==0)or(a ==1 and b==1 and c ==1 and d==1)):\n",
        "  output =1\n",
        "else:\n",
        "  output=0\n",
        "print(output)\n"
      ],
      "execution_count": 5,
      "outputs": [
        {
          "output_type": "stream",
          "name": "stdout",
          "text": [
            "1 1 1 1\n",
            "1\n"
          ]
        }
      ]
    },
    {
      "cell_type": "code",
      "metadata": {
        "colab": {
          "base_uri": "https://localhost:8080/"
        },
        "id": "wbT68XxIYmSK",
        "outputId": "c85ff30c-b773-46c1-829f-dfacd78e6e54"
      },
      "source": [
        "a, b, c, d = map(int, input().split())\n",
        "if ((a==0 and b==0 and c==0 and d==0) or(a==0 and b ==0 and c==1 and d==1 ) or (a ==1 and b==1 and c ==1 and d==0)or(a ==1 and b==1 and c ==1 and d==1)or(a==0 and b==1 and c==1 and d==0)or\n",
        "    (a==0 and b ==1 and c==1 and d==1)or(a==0 and b==0 and c==0 and d==1)):\n",
        "  output =1\n",
        "else:\n",
        "  output=0\n",
        "print(output)\n"
      ],
      "execution_count": 11,
      "outputs": [
        {
          "output_type": "stream",
          "name": "stdout",
          "text": [
            "0 0 0 1\n",
            "1\n"
          ]
        }
      ]
    }
  ]
}